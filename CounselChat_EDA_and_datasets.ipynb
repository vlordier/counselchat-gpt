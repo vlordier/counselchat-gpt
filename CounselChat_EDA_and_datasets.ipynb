{
  "cells": [
    {
      "cell_type": "code",
      "source": [
        "import sys\n",
        "if 'google.colab' in sys.modules:\n",
        "    !pip install -Uqq transformers datasets"
      ],
      "metadata": {
        "id": "-KY7QMqN9lpq"
      },
      "id": "-KY7QMqN9lpq",
      "execution_count": 1,
      "outputs": []
    },
    {
      "cell_type": "code",
      "execution_count": 2,
      "id": "00c78a2f-659a-4775-9b76-4e68e55bc446",
      "metadata": {
        "id": "00c78a2f-659a-4775-9b76-4e68e55bc446"
      },
      "outputs": [],
      "source": [
        "import random\n",
        "import pandas as pd\n",
        "from IPython.display import display, HTML\n",
        "\n",
        "from transformers import AutoTokenizer\n",
        "from datasets import Dataset, DatasetDict"
      ]
    },
    {
      "cell_type": "markdown",
      "source": [
        "# Get the data"
      ],
      "metadata": {
        "id": "yw5e4jzU_vpZ"
      },
      "id": "yw5e4jzU_vpZ"
    },
    {
      "cell_type": "code",
      "source": [
        "!mkdir ./data && cd data && wget https://raw.githubusercontent.com/nbertagnolli/counsel-chat/master/data/20200325_counsel_chat.csv"
      ],
      "metadata": {
        "colab": {
          "base_uri": "https://localhost:8080/"
        },
        "id": "fMu82T0m_z4d",
        "outputId": "2af3b5c0-336b-4fb4-e0b2-551aed90ec6a"
      },
      "id": "fMu82T0m_z4d",
      "execution_count": 3,
      "outputs": [
        {
          "output_type": "stream",
          "name": "stdout",
          "text": [
            "mkdir: cannot create directory ‘./data’: File exists\n"
          ]
        }
      ]
    },
    {
      "cell_type": "code",
      "source": [
        "!ls -hl data"
      ],
      "metadata": {
        "colab": {
          "base_uri": "https://localhost:8080/"
        },
        "id": "wCz-4D1-NEJ2",
        "outputId": "41781a24-d872-4d25-fe68-034393371a71"
      },
      "id": "wCz-4D1-NEJ2",
      "execution_count": 4,
      "outputs": [
        {
          "output_type": "stream",
          "name": "stdout",
          "text": [
            "total 6.1M\n",
            "-rw-r--r-- 1 root root 3.2M Mar 28 11:04 20200325_counsel_chat.csv\n",
            "-rw-r--r-- 1 root root 2.9M Mar 28 11:04 counselchat-data.csv\n"
          ]
        }
      ]
    },
    {
      "cell_type": "code",
      "execution_count": 5,
      "id": "a54bd9b6-d814-4bb2-827b-8789b5c443b4",
      "metadata": {
        "id": "a54bd9b6-d814-4bb2-827b-8789b5c443b4"
      },
      "outputs": [],
      "source": [
        "df = pd.read_csv(\"data/20200325_counsel_chat.csv\", index_col=0)"
      ]
    },
    {
      "cell_type": "code",
      "execution_count": 6,
      "id": "8121916b-a4ce-4b90-b042-4e27babab4c2",
      "metadata": {
        "colab": {
          "base_uri": "https://localhost:8080/"
        },
        "id": "8121916b-a4ce-4b90-b042-4e27babab4c2",
        "outputId": "75d49cbf-960a-4b9f-d650-2d3e27ff0d83"
      },
      "outputs": [
        {
          "output_type": "stream",
          "name": "stdout",
          "text": [
            "Total number of samples 2129, 815 unique questions on 31 topics\n"
          ]
        }
      ],
      "source": [
        "n_qs = len(df.questionID.unique())\n",
        "n_topics = len(df.topic.unique())\n",
        "print(f\"Total number of samples {df.shape[0]}, {n_qs} unique questions on {n_topics} topics\")"
      ]
    },
    {
      "cell_type": "code",
      "source": [
        "# standardise spaces\n",
        "df[\"questionTitle\"] = df.questionTitle.map(lambda x: \" \".join(x.split()))\n",
        "df[\"questionText\"] = df.questionText.map(lambda x: \" \".join(x.split()))\n",
        "df[\"answerText\"] = df.answerText.map(lambda x: \" \".join(x.split()))\n",
        "\n",
        "df[\"prompt\"] = \"Answer like a therapist:\\n\" + df.questionTitle + df.questionText + \"\\nAnswer: \"\n",
        "df[\"fullText\"] = df.prompt + df.answerText\n",
        "df.head(3)"
      ],
      "metadata": {
        "colab": {
          "base_uri": "https://localhost:8080/",
          "height": 372
        },
        "id": "gkzzHOksdQea",
        "outputId": "3502c0d8-a8d3-4963-ba5b-ea5d15105405"
      },
      "id": "gkzzHOksdQea",
      "execution_count": 7,
      "outputs": [
        {
          "output_type": "execute_result",
          "data": {
            "text/plain": [
              "   questionID                                      questionTitle  \\\n",
              "0           0  Can I change my feeling of being worthless to ...   \n",
              "1           0  Can I change my feeling of being worthless to ...   \n",
              "2           0  Can I change my feeling of being worthless to ...   \n",
              "\n",
              "                                        questionText  \\\n",
              "0  I'm going through some things with my feelings...   \n",
              "1  I'm going through some things with my feelings...   \n",
              "2  I'm going through some things with my feelings...   \n",
              "\n",
              "                                        questionLink       topic  \\\n",
              "0  https://counselchat.com/questions/can-i-change...  depression   \n",
              "1  https://counselchat.com/questions/can-i-change...  depression   \n",
              "2  https://counselchat.com/questions/can-i-change...  depression   \n",
              "\n",
              "                                       therapistInfo  \\\n",
              "0  Sherry Katz, LCSWCouples and Family Therapist,...   \n",
              "1  Robin Landwehr, DBH, LPCC, NCCMental Health in...   \n",
              "2  Lee KingI use an integrative approach to treat...   \n",
              "\n",
              "                                        therapistURL  \\\n",
              "0  https://counselchat.com/therapists/sherry-katz...   \n",
              "1  https://counselchat.com/therapists/robin-landw...   \n",
              "2        https://counselchat.com/therapists/lee-king   \n",
              "\n",
              "                                          answerText  upvotes  views  split  \\\n",
              "0  If everyone thinks you're worthless, then mayb...        1   2899  train   \n",
              "1  Hello, and thank you for your question and see...        1   3514  train   \n",
              "2  First thing I'd suggest is getting the sleep y...        0      5  train   \n",
              "\n",
              "                                              prompt  \\\n",
              "0  Answer like a therapist:\\nCan I change my feel...   \n",
              "1  Answer like a therapist:\\nCan I change my feel...   \n",
              "2  Answer like a therapist:\\nCan I change my feel...   \n",
              "\n",
              "                                            fullText  \n",
              "0  Answer like a therapist:\\nCan I change my feel...  \n",
              "1  Answer like a therapist:\\nCan I change my feel...  \n",
              "2  Answer like a therapist:\\nCan I change my feel...  "
            ],
            "text/html": [
              "\n",
              "  <div id=\"df-66d297a3-c1e4-449a-84c2-3cb2145f2253\">\n",
              "    <div class=\"colab-df-container\">\n",
              "      <div>\n",
              "<style scoped>\n",
              "    .dataframe tbody tr th:only-of-type {\n",
              "        vertical-align: middle;\n",
              "    }\n",
              "\n",
              "    .dataframe tbody tr th {\n",
              "        vertical-align: top;\n",
              "    }\n",
              "\n",
              "    .dataframe thead th {\n",
              "        text-align: right;\n",
              "    }\n",
              "</style>\n",
              "<table border=\"1\" class=\"dataframe\">\n",
              "  <thead>\n",
              "    <tr style=\"text-align: right;\">\n",
              "      <th></th>\n",
              "      <th>questionID</th>\n",
              "      <th>questionTitle</th>\n",
              "      <th>questionText</th>\n",
              "      <th>questionLink</th>\n",
              "      <th>topic</th>\n",
              "      <th>therapistInfo</th>\n",
              "      <th>therapistURL</th>\n",
              "      <th>answerText</th>\n",
              "      <th>upvotes</th>\n",
              "      <th>views</th>\n",
              "      <th>split</th>\n",
              "      <th>prompt</th>\n",
              "      <th>fullText</th>\n",
              "    </tr>\n",
              "  </thead>\n",
              "  <tbody>\n",
              "    <tr>\n",
              "      <th>0</th>\n",
              "      <td>0</td>\n",
              "      <td>Can I change my feeling of being worthless to ...</td>\n",
              "      <td>I'm going through some things with my feelings...</td>\n",
              "      <td>https://counselchat.com/questions/can-i-change...</td>\n",
              "      <td>depression</td>\n",
              "      <td>Sherry Katz, LCSWCouples and Family Therapist,...</td>\n",
              "      <td>https://counselchat.com/therapists/sherry-katz...</td>\n",
              "      <td>If everyone thinks you're worthless, then mayb...</td>\n",
              "      <td>1</td>\n",
              "      <td>2899</td>\n",
              "      <td>train</td>\n",
              "      <td>Answer like a therapist:\\nCan I change my feel...</td>\n",
              "      <td>Answer like a therapist:\\nCan I change my feel...</td>\n",
              "    </tr>\n",
              "    <tr>\n",
              "      <th>1</th>\n",
              "      <td>0</td>\n",
              "      <td>Can I change my feeling of being worthless to ...</td>\n",
              "      <td>I'm going through some things with my feelings...</td>\n",
              "      <td>https://counselchat.com/questions/can-i-change...</td>\n",
              "      <td>depression</td>\n",
              "      <td>Robin Landwehr, DBH, LPCC, NCCMental Health in...</td>\n",
              "      <td>https://counselchat.com/therapists/robin-landw...</td>\n",
              "      <td>Hello, and thank you for your question and see...</td>\n",
              "      <td>1</td>\n",
              "      <td>3514</td>\n",
              "      <td>train</td>\n",
              "      <td>Answer like a therapist:\\nCan I change my feel...</td>\n",
              "      <td>Answer like a therapist:\\nCan I change my feel...</td>\n",
              "    </tr>\n",
              "    <tr>\n",
              "      <th>2</th>\n",
              "      <td>0</td>\n",
              "      <td>Can I change my feeling of being worthless to ...</td>\n",
              "      <td>I'm going through some things with my feelings...</td>\n",
              "      <td>https://counselchat.com/questions/can-i-change...</td>\n",
              "      <td>depression</td>\n",
              "      <td>Lee KingI use an integrative approach to treat...</td>\n",
              "      <td>https://counselchat.com/therapists/lee-king</td>\n",
              "      <td>First thing I'd suggest is getting the sleep y...</td>\n",
              "      <td>0</td>\n",
              "      <td>5</td>\n",
              "      <td>train</td>\n",
              "      <td>Answer like a therapist:\\nCan I change my feel...</td>\n",
              "      <td>Answer like a therapist:\\nCan I change my feel...</td>\n",
              "    </tr>\n",
              "  </tbody>\n",
              "</table>\n",
              "</div>\n",
              "      <button class=\"colab-df-convert\" onclick=\"convertToInteractive('df-66d297a3-c1e4-449a-84c2-3cb2145f2253')\"\n",
              "              title=\"Convert this dataframe to an interactive table.\"\n",
              "              style=\"display:none;\">\n",
              "        \n",
              "  <svg xmlns=\"http://www.w3.org/2000/svg\" height=\"24px\"viewBox=\"0 0 24 24\"\n",
              "       width=\"24px\">\n",
              "    <path d=\"M0 0h24v24H0V0z\" fill=\"none\"/>\n",
              "    <path d=\"M18.56 5.44l.94 2.06.94-2.06 2.06-.94-2.06-.94-.94-2.06-.94 2.06-2.06.94zm-11 1L8.5 8.5l.94-2.06 2.06-.94-2.06-.94L8.5 2.5l-.94 2.06-2.06.94zm10 10l.94 2.06.94-2.06 2.06-.94-2.06-.94-.94-2.06-.94 2.06-2.06.94z\"/><path d=\"M17.41 7.96l-1.37-1.37c-.4-.4-.92-.59-1.43-.59-.52 0-1.04.2-1.43.59L10.3 9.45l-7.72 7.72c-.78.78-.78 2.05 0 2.83L4 21.41c.39.39.9.59 1.41.59.51 0 1.02-.2 1.41-.59l7.78-7.78 2.81-2.81c.8-.78.8-2.07 0-2.86zM5.41 20L4 18.59l7.72-7.72 1.47 1.35L5.41 20z\"/>\n",
              "  </svg>\n",
              "      </button>\n",
              "      \n",
              "  <style>\n",
              "    .colab-df-container {\n",
              "      display:flex;\n",
              "      flex-wrap:wrap;\n",
              "      gap: 12px;\n",
              "    }\n",
              "\n",
              "    .colab-df-convert {\n",
              "      background-color: #E8F0FE;\n",
              "      border: none;\n",
              "      border-radius: 50%;\n",
              "      cursor: pointer;\n",
              "      display: none;\n",
              "      fill: #1967D2;\n",
              "      height: 32px;\n",
              "      padding: 0 0 0 0;\n",
              "      width: 32px;\n",
              "    }\n",
              "\n",
              "    .colab-df-convert:hover {\n",
              "      background-color: #E2EBFA;\n",
              "      box-shadow: 0px 1px 2px rgba(60, 64, 67, 0.3), 0px 1px 3px 1px rgba(60, 64, 67, 0.15);\n",
              "      fill: #174EA6;\n",
              "    }\n",
              "\n",
              "    [theme=dark] .colab-df-convert {\n",
              "      background-color: #3B4455;\n",
              "      fill: #D2E3FC;\n",
              "    }\n",
              "\n",
              "    [theme=dark] .colab-df-convert:hover {\n",
              "      background-color: #434B5C;\n",
              "      box-shadow: 0px 1px 3px 1px rgba(0, 0, 0, 0.15);\n",
              "      filter: drop-shadow(0px 1px 2px rgba(0, 0, 0, 0.3));\n",
              "      fill: #FFFFFF;\n",
              "    }\n",
              "  </style>\n",
              "\n",
              "      <script>\n",
              "        const buttonEl =\n",
              "          document.querySelector('#df-66d297a3-c1e4-449a-84c2-3cb2145f2253 button.colab-df-convert');\n",
              "        buttonEl.style.display =\n",
              "          google.colab.kernel.accessAllowed ? 'block' : 'none';\n",
              "\n",
              "        async function convertToInteractive(key) {\n",
              "          const element = document.querySelector('#df-66d297a3-c1e4-449a-84c2-3cb2145f2253');\n",
              "          const dataTable =\n",
              "            await google.colab.kernel.invokeFunction('convertToInteractive',\n",
              "                                                     [key], {});\n",
              "          if (!dataTable) return;\n",
              "\n",
              "          const docLinkHtml = 'Like what you see? Visit the ' +\n",
              "            '<a target=\"_blank\" href=https://colab.research.google.com/notebooks/data_table.ipynb>data table notebook</a>'\n",
              "            + ' to learn more about interactive tables.';\n",
              "          element.innerHTML = '';\n",
              "          dataTable['output_type'] = 'display_data';\n",
              "          await google.colab.output.renderOutput(dataTable, element);\n",
              "          const docLink = document.createElement('div');\n",
              "          docLink.innerHTML = docLinkHtml;\n",
              "          element.appendChild(docLink);\n",
              "        }\n",
              "      </script>\n",
              "    </div>\n",
              "  </div>\n",
              "  "
            ]
          },
          "metadata": {},
          "execution_count": 7
        }
      ]
    },
    {
      "cell_type": "markdown",
      "source": [
        "Let's compute prompt and answer length length in tokens:"
      ],
      "metadata": {
        "id": "XW47nrgAd3s2"
      },
      "id": "XW47nrgAd3s2"
    },
    {
      "cell_type": "code",
      "execution_count": 8,
      "id": "95e3bb9b-db09-4edf-814c-050dbc731721",
      "metadata": {
        "id": "95e3bb9b-db09-4edf-814c-050dbc731721"
      },
      "outputs": [],
      "source": [
        "tokenizer = AutoTokenizer.from_pretrained(\"EleutherAI/gpt-neo-1.3B\")\n",
        "\n",
        "def get_length(text):\n",
        "    return len(tokenizer(text)[\"input_ids\"])\n",
        "\n",
        "df[\"prompt_length\"] = df.prompt.map(get_length)\n",
        "df[\"answer_length\"] = df.answerText.map(get_length)\n",
        "df[\"full_length\"] = df.fullText.map(get_length)"
      ]
    },
    {
      "cell_type": "code",
      "execution_count": 9,
      "id": "1f9bd9f9-754b-4f9e-91e7-82b0db9bb8b7",
      "metadata": {
        "colab": {
          "base_uri": "https://localhost:8080/",
          "height": 329
        },
        "id": "1f9bd9f9-754b-4f9e-91e7-82b0db9bb8b7",
        "outputId": "a2d95ebd-9b0f-42bb-c42a-6079e7f48a83"
      },
      "outputs": [
        {
          "output_type": "execute_result",
          "data": {
            "text/plain": [
              "        questionID      upvotes        views  prompt_length  answer_length  \\\n",
              "count  2129.000000  2129.000000  2129.000000    2129.000000    2129.000000   \n",
              "mean    346.854861     0.489901   198.604979      84.918271     204.780648   \n",
              "std     273.706241     0.942429   300.314280      55.576650     151.817316   \n",
              "min       0.000000     0.000000     2.000000      23.000000       2.000000   \n",
              "25%      78.000000     0.000000    58.000000      53.000000     106.000000   \n",
              "50%     321.000000     0.000000   107.000000      75.000000     164.000000   \n",
              "75%     588.000000     1.000000   210.000000     102.000000     252.000000   \n",
              "max     884.000000     9.000000  3514.000000     668.000000    1108.000000   \n",
              "\n",
              "       full_length  \n",
              "count  2129.000000  \n",
              "mean    288.648661  \n",
              "std     165.082355  \n",
              "min      50.000000  \n",
              "25%     178.000000  \n",
              "50%     248.000000  \n",
              "75%     342.000000  \n",
              "max    1208.000000  "
            ],
            "text/html": [
              "\n",
              "  <div id=\"df-5ab3f6bd-0530-4d77-b055-b7c274e841d1\">\n",
              "    <div class=\"colab-df-container\">\n",
              "      <div>\n",
              "<style scoped>\n",
              "    .dataframe tbody tr th:only-of-type {\n",
              "        vertical-align: middle;\n",
              "    }\n",
              "\n",
              "    .dataframe tbody tr th {\n",
              "        vertical-align: top;\n",
              "    }\n",
              "\n",
              "    .dataframe thead th {\n",
              "        text-align: right;\n",
              "    }\n",
              "</style>\n",
              "<table border=\"1\" class=\"dataframe\">\n",
              "  <thead>\n",
              "    <tr style=\"text-align: right;\">\n",
              "      <th></th>\n",
              "      <th>questionID</th>\n",
              "      <th>upvotes</th>\n",
              "      <th>views</th>\n",
              "      <th>prompt_length</th>\n",
              "      <th>answer_length</th>\n",
              "      <th>full_length</th>\n",
              "    </tr>\n",
              "  </thead>\n",
              "  <tbody>\n",
              "    <tr>\n",
              "      <th>count</th>\n",
              "      <td>2129.000000</td>\n",
              "      <td>2129.000000</td>\n",
              "      <td>2129.000000</td>\n",
              "      <td>2129.000000</td>\n",
              "      <td>2129.000000</td>\n",
              "      <td>2129.000000</td>\n",
              "    </tr>\n",
              "    <tr>\n",
              "      <th>mean</th>\n",
              "      <td>346.854861</td>\n",
              "      <td>0.489901</td>\n",
              "      <td>198.604979</td>\n",
              "      <td>84.918271</td>\n",
              "      <td>204.780648</td>\n",
              "      <td>288.648661</td>\n",
              "    </tr>\n",
              "    <tr>\n",
              "      <th>std</th>\n",
              "      <td>273.706241</td>\n",
              "      <td>0.942429</td>\n",
              "      <td>300.314280</td>\n",
              "      <td>55.576650</td>\n",
              "      <td>151.817316</td>\n",
              "      <td>165.082355</td>\n",
              "    </tr>\n",
              "    <tr>\n",
              "      <th>min</th>\n",
              "      <td>0.000000</td>\n",
              "      <td>0.000000</td>\n",
              "      <td>2.000000</td>\n",
              "      <td>23.000000</td>\n",
              "      <td>2.000000</td>\n",
              "      <td>50.000000</td>\n",
              "    </tr>\n",
              "    <tr>\n",
              "      <th>25%</th>\n",
              "      <td>78.000000</td>\n",
              "      <td>0.000000</td>\n",
              "      <td>58.000000</td>\n",
              "      <td>53.000000</td>\n",
              "      <td>106.000000</td>\n",
              "      <td>178.000000</td>\n",
              "    </tr>\n",
              "    <tr>\n",
              "      <th>50%</th>\n",
              "      <td>321.000000</td>\n",
              "      <td>0.000000</td>\n",
              "      <td>107.000000</td>\n",
              "      <td>75.000000</td>\n",
              "      <td>164.000000</td>\n",
              "      <td>248.000000</td>\n",
              "    </tr>\n",
              "    <tr>\n",
              "      <th>75%</th>\n",
              "      <td>588.000000</td>\n",
              "      <td>1.000000</td>\n",
              "      <td>210.000000</td>\n",
              "      <td>102.000000</td>\n",
              "      <td>252.000000</td>\n",
              "      <td>342.000000</td>\n",
              "    </tr>\n",
              "    <tr>\n",
              "      <th>max</th>\n",
              "      <td>884.000000</td>\n",
              "      <td>9.000000</td>\n",
              "      <td>3514.000000</td>\n",
              "      <td>668.000000</td>\n",
              "      <td>1108.000000</td>\n",
              "      <td>1208.000000</td>\n",
              "    </tr>\n",
              "  </tbody>\n",
              "</table>\n",
              "</div>\n",
              "      <button class=\"colab-df-convert\" onclick=\"convertToInteractive('df-5ab3f6bd-0530-4d77-b055-b7c274e841d1')\"\n",
              "              title=\"Convert this dataframe to an interactive table.\"\n",
              "              style=\"display:none;\">\n",
              "        \n",
              "  <svg xmlns=\"http://www.w3.org/2000/svg\" height=\"24px\"viewBox=\"0 0 24 24\"\n",
              "       width=\"24px\">\n",
              "    <path d=\"M0 0h24v24H0V0z\" fill=\"none\"/>\n",
              "    <path d=\"M18.56 5.44l.94 2.06.94-2.06 2.06-.94-2.06-.94-.94-2.06-.94 2.06-2.06.94zm-11 1L8.5 8.5l.94-2.06 2.06-.94-2.06-.94L8.5 2.5l-.94 2.06-2.06.94zm10 10l.94 2.06.94-2.06 2.06-.94-2.06-.94-.94-2.06-.94 2.06-2.06.94z\"/><path d=\"M17.41 7.96l-1.37-1.37c-.4-.4-.92-.59-1.43-.59-.52 0-1.04.2-1.43.59L10.3 9.45l-7.72 7.72c-.78.78-.78 2.05 0 2.83L4 21.41c.39.39.9.59 1.41.59.51 0 1.02-.2 1.41-.59l7.78-7.78 2.81-2.81c.8-.78.8-2.07 0-2.86zM5.41 20L4 18.59l7.72-7.72 1.47 1.35L5.41 20z\"/>\n",
              "  </svg>\n",
              "      </button>\n",
              "      \n",
              "  <style>\n",
              "    .colab-df-container {\n",
              "      display:flex;\n",
              "      flex-wrap:wrap;\n",
              "      gap: 12px;\n",
              "    }\n",
              "\n",
              "    .colab-df-convert {\n",
              "      background-color: #E8F0FE;\n",
              "      border: none;\n",
              "      border-radius: 50%;\n",
              "      cursor: pointer;\n",
              "      display: none;\n",
              "      fill: #1967D2;\n",
              "      height: 32px;\n",
              "      padding: 0 0 0 0;\n",
              "      width: 32px;\n",
              "    }\n",
              "\n",
              "    .colab-df-convert:hover {\n",
              "      background-color: #E2EBFA;\n",
              "      box-shadow: 0px 1px 2px rgba(60, 64, 67, 0.3), 0px 1px 3px 1px rgba(60, 64, 67, 0.15);\n",
              "      fill: #174EA6;\n",
              "    }\n",
              "\n",
              "    [theme=dark] .colab-df-convert {\n",
              "      background-color: #3B4455;\n",
              "      fill: #D2E3FC;\n",
              "    }\n",
              "\n",
              "    [theme=dark] .colab-df-convert:hover {\n",
              "      background-color: #434B5C;\n",
              "      box-shadow: 0px 1px 3px 1px rgba(0, 0, 0, 0.15);\n",
              "      filter: drop-shadow(0px 1px 2px rgba(0, 0, 0, 0.3));\n",
              "      fill: #FFFFFF;\n",
              "    }\n",
              "  </style>\n",
              "\n",
              "      <script>\n",
              "        const buttonEl =\n",
              "          document.querySelector('#df-5ab3f6bd-0530-4d77-b055-b7c274e841d1 button.colab-df-convert');\n",
              "        buttonEl.style.display =\n",
              "          google.colab.kernel.accessAllowed ? 'block' : 'none';\n",
              "\n",
              "        async function convertToInteractive(key) {\n",
              "          const element = document.querySelector('#df-5ab3f6bd-0530-4d77-b055-b7c274e841d1');\n",
              "          const dataTable =\n",
              "            await google.colab.kernel.invokeFunction('convertToInteractive',\n",
              "                                                     [key], {});\n",
              "          if (!dataTable) return;\n",
              "\n",
              "          const docLinkHtml = 'Like what you see? Visit the ' +\n",
              "            '<a target=\"_blank\" href=https://colab.research.google.com/notebooks/data_table.ipynb>data table notebook</a>'\n",
              "            + ' to learn more about interactive tables.';\n",
              "          element.innerHTML = '';\n",
              "          dataTable['output_type'] = 'display_data';\n",
              "          await google.colab.output.renderOutput(dataTable, element);\n",
              "          const docLink = document.createElement('div');\n",
              "          docLink.innerHTML = docLinkHtml;\n",
              "          element.appendChild(docLink);\n",
              "        }\n",
              "      </script>\n",
              "    </div>\n",
              "  </div>\n",
              "  "
            ]
          },
          "metadata": {},
          "execution_count": 9
        }
      ],
      "source": [
        "df.describe()"
      ]
    },
    {
      "cell_type": "code",
      "source": [
        "for name, group in df.groupby(\"split\"):\n",
        "    print(f\"{name} split contains {len(group)} samples ({len(group.questionID.unique())} unique questions)\")\n",
        "\n",
        "    # bla = group[[\"questionTitle\", \"questionID\"]].groupby([\"questionTitle\"]).count()"
      ],
      "metadata": {
        "colab": {
          "base_uri": "https://localhost:8080/"
        },
        "id": "wct7ENSkVcem",
        "outputId": "4d4c7abd-0712-4541-9066-4673bfb4e23e"
      },
      "id": "wct7ENSkVcem",
      "execution_count": 10,
      "outputs": [
        {
          "output_type": "stream",
          "name": "stdout",
          "text": [
            "test split contains 117 samples (39 unique questions)\n",
            "train split contains 1839 samples (695 unique questions)\n",
            "val split contains 173 samples (81 unique questions)\n"
          ]
        }
      ]
    },
    {
      "cell_type": "code",
      "execution_count": 11,
      "id": "6da058ac-bef8-40b2-acaf-11b6367881da",
      "metadata": {
        "id": "6da058ac-bef8-40b2-acaf-11b6367881da"
      },
      "outputs": [],
      "source": [
        "df.rename(columns={\"answerText\":\"answer\"}, inplace=True)\n",
        "dataset = DatasetDict(**{\n",
        "    k: Dataset.from_pandas(df.loc[df.split==k,[\"prompt\", \"answer\", \"topic\"]]) for k in df.split.unique()\n",
        "})"
      ]
    },
    {
      "cell_type": "code",
      "source": [
        "import random\n",
        "import pandas as pd\n",
        "from IPython.display import display, HTML\n",
        "from pprint import pprint\n",
        "\n",
        "def display_examples(dataset, num_examples=5, mode=\"pprint\"):\n",
        "    assert num_examples <= len(dataset), \"Can't pick more elements than there are in the dataset.\"\n",
        "    idx = random.sample(list(range(len(dataset))), num_examples)\n",
        "    texts = [f'{sample[\"prompt\"]}, {sample[\"answer\"]}' for sample in dataset.select(idx)]\n",
        "    df = pd.DataFrame({\"text\":texts})\n",
        "    \n",
        "    if mode==\"df\":\n",
        "        display(HTML(df.to_html()))\n",
        "    elif mode==\"pprint\":\n",
        "        for text in texts:\n",
        "            pprint(text)\n",
        "            print()\n",
        "    else:\n",
        "        raise ValueError(f\"{mode} mode is not supported. Please select one of ['df' 'pprint']\")"
      ],
      "metadata": {
        "id": "i0z8Sd9zRacF"
      },
      "id": "i0z8Sd9zRacF",
      "execution_count": 12,
      "outputs": []
    },
    {
      "cell_type": "code",
      "source": [
        "display_examples(dataset[\"train\"], mode=\"df\")"
      ],
      "metadata": {
        "colab": {
          "base_uri": "https://localhost:8080/",
          "height": 1000
        },
        "id": "h3MoUnG1T5gs",
        "outputId": "a27f0272-19c0-4826-9751-64937c84eece"
      },
      "id": "h3MoUnG1T5gs",
      "execution_count": 13,
      "outputs": [
        {
          "output_type": "display_data",
          "data": {
            "text/plain": [
              "<IPython.core.display.HTML object>"
            ],
            "text/html": [
              "<table border=\"1\" class=\"dataframe\">\n",
              "  <thead>\n",
              "    <tr style=\"text-align: right;\">\n",
              "      <th></th>\n",
              "      <th>text</th>\n",
              "    </tr>\n",
              "  </thead>\n",
              "  <tbody>\n",
              "    <tr>\n",
              "      <th>0</th>\n",
              "      <td>Answer like a therapist:\\nWhy do I always push my boyfriend away?My boyfriend shows affection, but I just push him away. Every time my boyfriend tries to kiss, hug, or touch me I almost always push him away. I'm on birth control and it has killed my sex drive. I love him so much. Why do I do this?\\nAnswer: , I sympathize with you! It is actually quite common for one partner to have a higher sex drive than the other, and can lead to discord in the relationship. The good news is, there are ways to deal with this.You may have already answered your question. There are many medications that can alter one's sex drive. If your birth control pills are the cause of this, talk to your doctor about switching to a different brand. You may even consider alternate methods for birth control, such as condoms.However, there are some other things to ask yourself. First, you used the term \"affection\" but then talked about sex. They're not the same thing. There are different kinds of intimacy, and many different ways to show love for someone. A book you might find useful is \"The Five Love Languages\".Defining what \"affection\" means to you, and to him, and discovering all the ways you both can show this towards each other, may help lessen some of your anxiety over this.Humans are hard-wired to need appropriate physical touch. In fact, studies have shown that newborns/premies who can receive skin-on-skin contact with their parent can recover faster than babies who don't receive this touch. It's called Kangaroo Care. Children who have grown up in neglectful environments where they're not hugged and kissed and shown appropriate physical contact can often be unable to show this to their partners and children when they're adults. One question to ask yourself is, were you having intimacy issues before starting the medication? If so, there may be other, deeper issues at play here.For someone who has received the wrong kind of sexual/physical touch (sexual abuse, physical beatings) it can be difficult to allow someone to be physically close to you. A therapist could help you work through this.Sometimes, a person may lose their sexual feelings for their partner due to issues in the relationship. Once those issues are resolved, the sex drive comes back. Examine your relationship and see if either of you are unhappy, if you've been arguing a lot, or if there are any problems in your relationship that need to be addressed.Finally, look for the other ways that the two of you may be intimate in a non-sexual way. You may be doing things for each other that you don't even realize, and noticing these will help you appreciate it more. Take the stress off of the sexual gratification and focus on showing your love in other ways. Some people like to give gifts, do the other person's chores, or do other things they think the person will appreciate.If, after all of this, you still have a discrepancy with one of you having a higher sex drive, there are many articles online that offer advice for couples dealing with this situation that you may find useful. It is a very common issue for a lot of couples.</td>\n",
              "    </tr>\n",
              "    <tr>\n",
              "      <th>1</th>\n",
              "      <td>Answer like a therapist:\\nHow does counseling end?How does a counselor decide when to end counseling sessions or to terminate working with a client?\\nAnswer: , There are typically three reasons why therapy is terminated:1) Client has met therapy goals2) Client is not progressing 3) Therapist is not a good fit for clientIn order to properly assess whether therapy is helping and what progress is being made, the therapist needs to have ways of consistently checking in with clients sessions-by-session to determine what is helping, what isn't, and where the client is at in relation to their original therapy goals. When a client has met their goals, that is a good time to end counselling sessions unless the client has new goals or simply wants to check-in periodically to make sure that they are still on track (sometimes referred to as relapse prevention). When a client is not progressing, and feedback has been taken and attempts have been made to make the therapy more helpful for the client but to no avail, than it is considered unethical to continue to work with the client. In these circumstances, referring out to another therapist who may be a better fit is a good idea.</td>\n",
              "    </tr>\n",
              "    <tr>\n",
              "      <th>2</th>\n",
              "      <td>Answer like a therapist:\\nI think my daughter is stressing too muchWhen my daughter is stressed about a silly thing from school, she starts crying and freaking out. She is a bright student, always has a 4.0, but I am afraid she is stressing too much. I’m afraid it’s going to break her. I don't know if I should get her to a doctor or someone because this is not normal.\\nAnswer: , Oh dear - this is becoming all too common. I suggest you have some conversations with your girl to figure out where she is getting the \"information\" that she builds anxiety around. I see teens who have heard teachers, parents, coaches, etc push the \"highly selective colleges\" idea on kids way too much. Teens in particular are prone to black and white thinking, leading them to see one poor test performance, one off day, one not-great assignment as the make-or-break task on the path to successful adulthood. If that's the case with your daughter, she needs you to help modulate both the incoming information (there are nearly 5000 colleges in the US - she will get into one of them!) as well as her reaction to that information.As well, you and any other adults that are involved in parenting her need to discern fact from fiction. The recent scandal around celebrities \"buying\" their kids into college is an indicator of how far off track we, as a culture, have gotten in terms of education. A college education is certainly important, but we have allowed the marketing push to create so much stress and upset for our kids (and ourselves as parents) that they are actually less prepared to leave home and really engage in higher education than ever.You may want to include a therapist in these conversations if you get stuck, but start with a parent-child conversation. Help her figure out what is going on - if it is the \"I have to get it right or I will have no future\", calmly walk her through all the evidence that says that's just not true. As well, let her know that being anxious now is NOT preparing her for a bright adulthood - it's preparing her for an anxious future. She needs help figuring out how to balance her effort to attend to real and reasonable expectations, not over-inflated fear-based actions.</td>\n",
              "    </tr>\n",
              "    <tr>\n",
              "      <th>3</th>\n",
              "      <td>Answer like a therapist:\\nHow can I learn to be content and at peace?I recently broke up with my boyfriend After being together for over 4 years. I truly believe I did the right thing, but omehow being single now has made me very needy and unsure of myself. I am seeing someone casually and I am losing my mind with anxiety about how he feels about me and this need for validation. How can I learn to be content and at peace with myself regardless of my career, relationship status, etc?\\nAnswer: , Moving on from a long term relationship can be difficult. Sometimes we can lose a sense of who we are because in a way we have become defined by the relationship itself. So, when we begin to move on and see other people, our sense of identity may be obscured. The tendency is to seek out validation to give us a feeling of worthiness. That it's ok to move on and be happy. This is a relatively normal reaction. It's important to treat yourself with kindness and compassion through this time in your life. Mindful self-compassion can be a great way to begin the process of getting that sense of who you are back and what you want in a relationship. I think its important to look back, learn what you can from the previous relationship, and become a better person for it in the future. At the same time, taking the necessary time to nuture yourself on a mind, body, and spirit level. Self-compassion allows you to turn inward and except all facets of who you are. It improves your capacity for love, vulnerability, emotional openness, social interconnectedness, and self-respect. My philosophy is holistic, collaborative, and accepting. The cornerstone of my treatment philosophy is mindfulness and other evidenced based integrative modalities. I work as your ally to help you cultivate abundant self-compassion in your life, so that you can have the types of relationships you want.</td>\n",
              "    </tr>\n",
              "    <tr>\n",
              "      <th>4</th>\n",
              "      <td>Answer like a therapist:\\nI want to be a boy but I can't because of my religionI was born a girl, but I want to be a boy. Because of my religion I can't tell my family. I know they won't accept me. What do I do?\\nAnswer: , First of all, I want to say, I am so sorry you are not feeling accepted by your family. I know how isolating and lonely this can be. The most important step you can take right now is building a community of supportive people who do accept you. Creating your own sense of community is very powerful for helping you love yourself. If you can find a trans support or LGBTQ support group in your area, I recommend seeking that out right away through your local LGBTQ center or PFLAG. If you don’t have access to that, I recommend calling Trans Lifeline US: 877-565-8860 Canada: 877-330-6366 https://www.translifeline.org/. You can talk to other trans-identified people anonymously for support, calling them from wherever you feel safe. This is a great way to begin to connect with other people who have similar experiences to you. Next, think of this time in your life as your time to explore your gender identity, just for yourself. Make room to explore you gender identity in ways that are private and comfortable for you. Consider reading a book like: https://www.newharbinger.com/queer-and-transgender-resilience-workbook to explore who you are and build resilience. Also, consider learning about other religions that are accepting of LGBTQ folks for another perspective - there are many out there! Once you feel you have a strong support system outside of your family and a positive sense of self-love (which can take time, be patient, don’t rush it), then you can consider what action steps you want to take with your family. If you are still living with your family or financially depend on them, having other supports in place first is very important. It’s a very personal choice how you want to navigate your family relationships, talk it through in-depth with a trusted friend, other trans folks, or therapist to help you decide what’s right for you.And remember, there are tons of people out there who will love and accept you. We are rooting for you!In solidarity,-Lindsey</td>\n",
              "    </tr>\n",
              "  </tbody>\n",
              "</table>"
            ]
          },
          "metadata": {}
        }
      ]
    },
    {
      "cell_type": "code",
      "source": [
        "display_examples(dataset[\"train\"])"
      ],
      "metadata": {
        "colab": {
          "base_uri": "https://localhost:8080/"
        },
        "id": "XnjMAoMGnfuM",
        "outputId": "bedbd0c2-5162-4de0-f9da-8a3debd15f80"
      },
      "id": "XnjMAoMGnfuM",
      "execution_count": 14,
      "outputs": [
        {
          "output_type": "stream",
          "name": "stdout",
          "text": [
            "('Answer like a therapist:\\n'\n",
            " \"I'm scared to tell my family that I'm bisexualMy parents seem okay with \"\n",
            " 'other sexualities, but normally they only talk about being gay. When they do '\n",
            " \"talk about bisexuality, they say things like “they'll do anything” or things \"\n",
            " \"that make me very uncomfortable because I am bisexual. I don't know if I am \"\n",
            " 'ready to come out to them.\\n'\n",
            " 'Answer: , Coming out to family members can cause a lot of anxiety. However, '\n",
            " 'although I cannot promise what their reaction will be, the benefit is that '\n",
            " 'you will no longer have to hide who you are. Perhaps researching or getting '\n",
            " 'information on bisexuality can help your family understand what it truly is '\n",
            " 'to be bisexual. Many times, people are just not educated on certain things.')\n",
            "\n",
            "('Answer like a therapist:\\n'\n",
            " 'Is it okay for my girlfriend to have sex with other men since I can’t '\n",
            " 'sexually perform?I am currently suffering from erectile dysfunction and have '\n",
            " 'tried Viagra, Cialis, etc. Nothing seemed to work. My girlfriend of 3 years '\n",
            " 'is very sexually frustrated. I told her that it is okay for her to have sex '\n",
            " 'with other men. Is that really okay?\\n'\n",
            " 'Answer: , Hi, First and foremost, I want to acknowledge your efforts to gain '\n",
            " '(your) ideal erectile function. If the medications are not working and you '\n",
            " 'have taken them as prescribed, I would encourage you to seek the help of a '\n",
            " 'sex therapist as the dysfunction may be due to a psychological and/or '\n",
            " 'relational issue rather than a physical/medical one. As for your question, '\n",
            " 'only you can answer this. Is it OK? Are you OK with her sleeping with '\n",
            " 'others? Have you thought through what this may look like, feel like, become '\n",
            " 'for you and her? Opening up a relationship is a choice only the people in '\n",
            " 'the relationship can answer. Even then, the answer may change at any point '\n",
            " 'by either of you. I encourage you to also determine what the intention is '\n",
            " 'underneath your telling your girlfriend she could sleep with others. Be '\n",
            " 'clear with the intention and then together have continuous conversations '\n",
            " 'about the expectations of opening up (i.e.: are there any kinds of sex that '\n",
            " 'is off limits, areas of the body where touch or intimacy is not allowed, are '\n",
            " 'uses of safer sex required or not, do you want to know the details or not, '\n",
            " 'so forth). An excellent resource would be the book \"Opening Up\" by Tristan '\n",
            " 'Taormino. I wish you the best of luck!Dr. Lily Zehner, MFT-C')\n",
            "\n",
            "('Answer like a therapist:\\n'\n",
            " 'Is there a lawsuit for counselors and therapists who failed to report a '\n",
            " 'relapse?I have a relative who is in his twenties. He was in a drug '\n",
            " 'rehabilitation program and got kicked out for using drugs again. No one '\n",
            " 'informed family that he was using drugs again. He subsequently overdosed and '\n",
            " 'was found dead. Is their accountability of counselors, therapists or the '\n",
            " 'halfway house for not reporting that he had relapsed? Is there a legal case '\n",
            " 'for failing to report?\\n'\n",
            " \"Answer: , I'm so sorry to hear of your loss. This sounds like a really \"\n",
            " 'difficult situation for the whole family. Since the answer to this question '\n",
            " 'will depend a lot on the applicable state laws, I would suggest talking with '\n",
            " 'a local attorney. That being said, I see two competing issues here. On the '\n",
            " 'one side is the duty of confidentiality the counselors owed to your '\n",
            " 'relative. On the other side is the duty the counselors had to act reasonably '\n",
            " 'to protect your relative from harm. Generally there is not a requiremt for '\n",
            " 'substance abuse treatment centers to notify family members if an adult '\n",
            " 'client relapses.A local attorney will be able to provide more specific '\n",
            " 'guidance on the legal obligtions and liabilities in this situation.')\n",
            "\n",
            "('Answer like a therapist:\\n'\n",
            " 'How can I be interested in the same sex after nearly 40 years of being '\n",
            " 'straight?After 40 years of being straight, how could I now find myself '\n",
            " 'interested in people of the same sex? I have had a few same sex encounters '\n",
            " 'of my own doing.\\n'\n",
            " \"Answer: , What most people don't know is that sexual preferences can be \"\n",
            " 'fluid, meaning our sexual orientation is not as fixed as most people '\n",
            " 'believe. Women in particular tend to be more fluid in their desire to '\n",
            " 'express and experience sex. It is not uncommon for heterosexual women in '\n",
            " 'their mid-life to explore new sexual appetites. That said, men tend to be '\n",
            " 'more rigid in their orientations particularly if they are hetero while gay '\n",
            " 'men tend to be more fluid. So if your distress is over your new interests I '\n",
            " 'would tell you, you are not alone and not abnormal. Since you have started '\n",
            " 'exploring, enjoy and consider seeing a therapist to help you navigate your '\n",
            " 'feelings around this new sexual life! Warm wishes.')\n",
            "\n",
            "('Answer like a therapist:\\n'\n",
            " 'How does counseling help people?Does counseling really do anything that can '\n",
            " 'help people?\\n'\n",
            " \"Answer: , No, not really;And it's impossible for it to, anyway;And, this is \"\n",
            " 'isn\\'t some sort of \"you did it all yourself\" kind of blather;Because:1) In '\n",
            " 'most outcomes, if a man or woman simply does nothing and waits, most of the '\n",
            " 'time, they get better... (there are reasons to that);2) In most therapy '\n",
            " 'sessions, approximately 92% (give or take, per study) of all outcomes--be '\n",
            " 'they positive or negative--occur due to factors SOLELY WITHIN the man or '\n",
            " 'woman seeking therapy to begin with;3) The word \"THERAPY\" does not imply '\n",
            " 'cure, but implies treatment (suppression);4) Truly, a proper \"therapist\" '\n",
            " 'will be able to spot the problem quickly, recommended proper protocols '\n",
            " 'quickly, and coach to completion.5) Even if we PRESUME generosity, the '\n",
            " '\"therapist\" really doesn\\'t matter much (maybe 8%); it really all is in '\n",
            " 'you...Be well, man...')\n",
            "\n"
          ]
        }
      ]
    },
    {
      "cell_type": "markdown",
      "source": [
        "Note: \"prompt\" and \"answer\" are kept as separate fields because it will be handy later for proper labeling. Tokens corresponding to \"prompt\" will be ignored at loss computation as we are interested in generating answers only."
      ],
      "metadata": {
        "id": "49iTzE2qoKnA"
      },
      "id": "49iTzE2qoKnA"
    },
    {
      "cell_type": "code",
      "source": [
        "sample = dataset[\"train\"][0]\n",
        "tokenizer(sample[\"prompt\"], sample[\"answer\"], return_token_type_ids=True)"
      ],
      "metadata": {
        "colab": {
          "base_uri": "https://localhost:8080/"
        },
        "id": "sKGut2Cgiz6o",
        "outputId": "21ed9079-f93a-4900-b991-150abea802d4"
      },
      "id": "sKGut2Cgiz6o",
      "execution_count": 15,
      "outputs": [
        {
          "output_type": "execute_result",
          "data": {
            "text/plain": [
              "{'input_ids': [33706, 588, 257, 24636, 25, 198, 6090, 314, 1487, 616, 4203, 286, 852, 28063, 284, 2506, 30, 40, 1101, 1016, 832, 617, 1243, 351, 616, 7666, 290, 3589, 13, 314, 8523, 3993, 290, 314, 466, 2147, 475, 892, 546, 703, 314, 1101, 28063, 290, 703, 314, 6584, 470, 307, 994, 13, 314, 1053, 1239, 3088, 393, 39496, 7341, 13, 314, 1053, 1464, 2227, 284, 4259, 616, 2428, 11, 475, 314, 1239, 651, 1088, 284, 340, 13, 1374, 460, 314, 1487, 616, 4203, 286, 852, 28063, 284, 2506, 30, 198, 33706, 25, 220, 1532, 2506, 6834, 345, 821, 28063, 11, 788, 3863, 345, 761, 284, 1064, 649, 661, 284, 8181, 503, 351, 13, 42338, 11, 262, 1919, 4732, 287, 543, 257, 1048, 3160, 318, 257, 1263, 4588, 287, 2116, 12, 31869, 13, 48059, 11, 345, 460, 467, 2835, 290, 2835, 2111, 284, 1833, 1521, 345, 821, 407, 28063, 11, 788, 467, 736, 284, 262, 976, 4315, 290, 307, 13642, 866, 757, 13, 1858, 389, 867, 40840, 6218, 345, 460, 1064, 287, 1919, 2056, 13, 6674, 1100, 617, 286, 262, 3392, 543, 1181, 326, 645, 1048, 318, 28063, 11, 290, 326, 2506, 468, 257, 922, 4007, 284, 511, 1204, 13, 7583, 11, 1201, 674, 3968, 318, 523, 24725, 351, 262, 4901, 326, 611, 2130, 1595, 470, 1254, 922, 546, 2405, 326, 428, 318, 7599, 7818, 13, 22069, 7666, 389, 636, 286, 2877, 13, 1119, 389, 262, 14052, 284, 4781, 6731, 422, 7445, 290, 6958, 543, 466, 514, 517, 4419, 621, 922, 13, 22069, 7666, 466, 1254, 7818, 13, 3406, 4203, 286, 2861, 17587, 743, 307, 922, 287, 262, 2565, 286, 46891, 345, 284, 1064, 503, 326, 345, 389, 881, 1365, 621, 534, 7666, 1909, 13], 'token_type_ids': [0, 0, 0, 0, 0, 0, 0, 0, 0, 0, 0, 0, 0, 0, 0, 0, 0, 0, 0, 0, 0, 0, 0, 0, 0, 0, 0, 0, 0, 0, 0, 0, 0, 0, 0, 0, 0, 0, 0, 0, 0, 0, 0, 0, 0, 0, 0, 0, 0, 0, 0, 0, 0, 0, 0, 0, 0, 0, 0, 0, 0, 0, 0, 0, 0, 0, 0, 0, 0, 0, 0, 0, 0, 0, 0, 0, 0, 0, 0, 0, 0, 0, 0, 0, 0, 0, 0, 0, 0, 0, 0, 0, 1, 1, 1, 1, 1, 1, 1, 1, 1, 1, 1, 1, 1, 1, 1, 1, 1, 1, 1, 1, 1, 1, 1, 1, 1, 1, 1, 1, 1, 1, 1, 1, 1, 1, 1, 1, 1, 1, 1, 1, 1, 1, 1, 1, 1, 1, 1, 1, 1, 1, 1, 1, 1, 1, 1, 1, 1, 1, 1, 1, 1, 1, 1, 1, 1, 1, 1, 1, 1, 1, 1, 1, 1, 1, 1, 1, 1, 1, 1, 1, 1, 1, 1, 1, 1, 1, 1, 1, 1, 1, 1, 1, 1, 1, 1, 1, 1, 1, 1, 1, 1, 1, 1, 1, 1, 1, 1, 1, 1, 1, 1, 1, 1, 1, 1, 1, 1, 1, 1, 1, 1, 1, 1, 1, 1, 1, 1, 1, 1, 1, 1, 1, 1, 1, 1, 1, 1, 1, 1, 1, 1, 1, 1, 1, 1, 1, 1, 1, 1, 1, 1, 1, 1, 1, 1, 1, 1, 1, 1, 1, 1, 1, 1, 1, 1, 1, 1, 1, 1, 1, 1, 1, 1, 1, 1, 1, 1, 1, 1, 1, 1, 1, 1, 1, 1, 1, 1, 1, 1, 1, 1], 'attention_mask': [1, 1, 1, 1, 1, 1, 1, 1, 1, 1, 1, 1, 1, 1, 1, 1, 1, 1, 1, 1, 1, 1, 1, 1, 1, 1, 1, 1, 1, 1, 1, 1, 1, 1, 1, 1, 1, 1, 1, 1, 1, 1, 1, 1, 1, 1, 1, 1, 1, 1, 1, 1, 1, 1, 1, 1, 1, 1, 1, 1, 1, 1, 1, 1, 1, 1, 1, 1, 1, 1, 1, 1, 1, 1, 1, 1, 1, 1, 1, 1, 1, 1, 1, 1, 1, 1, 1, 1, 1, 1, 1, 1, 1, 1, 1, 1, 1, 1, 1, 1, 1, 1, 1, 1, 1, 1, 1, 1, 1, 1, 1, 1, 1, 1, 1, 1, 1, 1, 1, 1, 1, 1, 1, 1, 1, 1, 1, 1, 1, 1, 1, 1, 1, 1, 1, 1, 1, 1, 1, 1, 1, 1, 1, 1, 1, 1, 1, 1, 1, 1, 1, 1, 1, 1, 1, 1, 1, 1, 1, 1, 1, 1, 1, 1, 1, 1, 1, 1, 1, 1, 1, 1, 1, 1, 1, 1, 1, 1, 1, 1, 1, 1, 1, 1, 1, 1, 1, 1, 1, 1, 1, 1, 1, 1, 1, 1, 1, 1, 1, 1, 1, 1, 1, 1, 1, 1, 1, 1, 1, 1, 1, 1, 1, 1, 1, 1, 1, 1, 1, 1, 1, 1, 1, 1, 1, 1, 1, 1, 1, 1, 1, 1, 1, 1, 1, 1, 1, 1, 1, 1, 1, 1, 1, 1, 1, 1, 1, 1, 1, 1, 1, 1, 1, 1, 1, 1, 1, 1, 1, 1, 1, 1, 1, 1, 1, 1, 1, 1, 1, 1, 1, 1, 1, 1, 1, 1, 1, 1, 1, 1, 1, 1, 1]}"
            ]
          },
          "metadata": {},
          "execution_count": 15
        }
      ]
    },
    {
      "cell_type": "code",
      "source": [
        ""
      ],
      "metadata": {
        "id": "8xjH0TyyoCFq"
      },
      "id": "8xjH0TyyoCFq",
      "execution_count": 15,
      "outputs": []
    }
  ],
  "metadata": {
    "kernelspec": {
      "display_name": "Python [conda env:torchenv]",
      "language": "python",
      "name": "conda-env-torchenv-py"
    },
    "language_info": {
      "codemirror_mode": {
        "name": "ipython",
        "version": 3
      },
      "file_extension": ".py",
      "mimetype": "text/x-python",
      "name": "python",
      "nbconvert_exporter": "python",
      "pygments_lexer": "ipython3",
      "version": "3.8.10"
    },
    "colab": {
      "name": "CounselChat EDA and datasets.ipynb",
      "provenance": [],
      "collapsed_sections": []
    }
  },
  "nbformat": 4,
  "nbformat_minor": 5
}